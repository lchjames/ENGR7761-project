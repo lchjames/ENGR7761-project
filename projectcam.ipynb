{
 "cells": [
  {
   "cell_type": "code",
   "execution_count": null,
   "metadata": {},
   "outputs": [],
   "source": [
    "# these imports let you use opencv\n",
    "import cv2 #opencv itself\n",
    "import numpy as np # matrix manipulations\n",
    "from matplotlib import pyplot as plt\n",
    "import pylab\n",
    "pylab.rcParams['figure.figsize'] = (10.0, 8.0)\n",
    "import ctypes  # An included library with Python install.\n",
    "\n",
    "\n",
    "cap = cv2.VideoCapture(0)\n",
    "img_counter = 0 \n",
    "face_find = False\n",
    "flag, img = cap.read() # get an initial frame\n",
    "cv2.namedWindow('Camera') # open a window for output\n",
    "cv2.imshow('Camera',img) # put the image in the output window\n",
    "\n",
    "face_cascade = cv2.CascadeClassifier('haarcascade_frontalface_default.xml')\n",
    "def Mbox(title, text, style):\n",
    "    return ctypes.windll.user32.MessageBoxW(0, text, title, style)\n",
    "\n",
    "def detect_face(img):\n",
    "    face_img = img.copy()\n",
    "    grey = cv2.cvtColor(face_img,cv2.COLOR_BGR2GRAY)\n",
    "    face_rects = face_cascade.detectMultiScale(grey)\n",
    "    if len(face_rects) == 0:\n",
    "        face_find = False\n",
    "    for (x,y,w,h) in face_rects:\n",
    "        re = cv2.rectangle(face_img, (x,y), (x+w, y+h), (255,255,255), 10)\n",
    "        if 're' in locals():\n",
    "            face_find = True\n",
    "    return face_img, face_find\n",
    "\n",
    "def face_crop(face_img):\n",
    "    grey = cv2.cvtColor(face_img,cv2.COLOR_BGR2GRAY)\n",
    "    face_rects = face_cascade.detectMultiScale(grey)\n",
    "    for (x,y,w,h) in face_rects:\n",
    "        face = face_img[y:y + h, x:x + w]\n",
    "    return face\n",
    "    \n",
    "\n",
    "while True:\n",
    "\n",
    "    #read a frame from the video capture obj\n",
    "    flag, img = cap.read()\n",
    "    face_img, face_find = detect_face(img)\n",
    "    output_image=face_img.copy()\n",
    "    cv2.imshow('Camera',face_img) # put the image in the output window\n",
    "    key = cv2.waitKey(1)\n",
    "    # wait for someone to press escape then destroy the output window \n",
    "    if key%256  == 27:\n",
    "        # esc pressed\n",
    "        cv2.destroyAllWindows()\n",
    "        break\n",
    "    elif key%256  == 32:\n",
    "        # SPACE pressed\n",
    "        if face_find == True:\n",
    "            img_name = \"img/Face_{}.jpg\".format(img_counter)\n",
    "            img = face_crop(face_img)\n",
    "            cv2.imwrite(img_name, img)\n",
    "            print(\"{} written!\".format(img_name))\n",
    "            img_counter += 1\n"
   ]
  },
  {
   "cell_type": "code",
   "execution_count": null,
   "metadata": {},
   "outputs": [],
   "source": []
  },
  {
   "cell_type": "code",
   "execution_count": null,
   "metadata": {},
   "outputs": [],
   "source": []
  },
  {
   "cell_type": "code",
   "execution_count": null,
   "metadata": {},
   "outputs": [],
   "source": []
  }
 ],
 "metadata": {
  "kernelspec": {
   "display_name": "Python 3",
   "language": "python",
   "name": "python3"
  },
  "language_info": {
   "codemirror_mode": {
    "name": "ipython",
    "version": 3
   },
   "file_extension": ".py",
   "mimetype": "text/x-python",
   "name": "python",
   "nbconvert_exporter": "python",
   "pygments_lexer": "ipython3",
   "version": "3.8.5"
  }
 },
 "nbformat": 4,
 "nbformat_minor": 4
}
